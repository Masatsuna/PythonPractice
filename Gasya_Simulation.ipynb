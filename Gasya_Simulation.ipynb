{
 "cells": [
  {
   "cell_type": "code",
   "execution_count": 262,
   "metadata": {},
   "outputs": [
    {
     "data": {
      "text/plain": [
       "['R', 'SSR', 'R', 'SSR', 'R', 'R', 'R', 'R', 'R', 'SR']"
      ]
     },
     "execution_count": 262,
     "metadata": {},
     "output_type": "execute_result"
    }
   ],
   "source": [
    "import numpy as np\n",
    "result = []\n",
    "result.extend(np.random.choice([\"まゆ\", \"SSR\", \"SR\", \"R\"], size = 9,p = [0.004, 0.026, 0.12, 0.85]))\n",
    "result.extend(np.random.choice([\"まゆ\", \"SSR\", \"SR\"], size = 1,p = [0.004, 0.026, 0.97]))\n",
    "result"
   ]
  }
 ],
 "metadata": {
  "kernelspec": {
   "display_name": "Python 3",
   "language": "python",
   "name": "python3"
  },
  "language_info": {
   "codemirror_mode": {
    "name": "ipython",
    "version": 3
   },
   "file_extension": ".py",
   "mimetype": "text/x-python",
   "name": "python",
   "nbconvert_exporter": "python",
   "pygments_lexer": "ipython3",
   "version": "3.6.4"
  }
 },
 "nbformat": 4,
 "nbformat_minor": 2
}
